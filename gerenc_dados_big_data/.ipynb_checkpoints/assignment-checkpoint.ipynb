{
 "cells": [
  {
   "cell_type": "markdown",
   "metadata": {},
   "source": [
    "## Sobre os dados\n",
    "\n",
    "O arquivo CSV contém eventos 'click' ou 'view' no tempo, de usuários em anúncios de determinadas campanhas.\n",
    "\n",
    "**Descrição das colunas:**  \n",
    "timestamp,user_id,action,adId,campaignId \n",
    "\n",
    "**Amostra:**  \n",
    "2016-09-21 22:11:00,7c74953c-66cc-48bd-9d02-a02bf039cf3f,click,adId_09,campaignId_01  \n",
    "2016-06-25 18:29:00,676a083e-2f8e-4ff2-9ec2-270f7f9d6033,view,adId_09,campaignId_02  \n",
    "2016-02-14 19:03:00,77158997-0dfa-48b7-9149-973dc151ef8d,click,adId_02,campaignId_02  \n",
    "2016-03-26 06:27:00,78aa2467-b502-413b-94e9-04ec8210bd13,click,adId_07,campaignId_03\n",
    "\n",
    "**Nome do arquivo CSV:**  \n",
    "ad_action.csv\n",
    "\n",
    "## Sobre as questões\n",
    "\n",
    "As questões devem ser respondidas usando as tecnolocias de acordo com as tags abaixo:\n",
    "\n",
    "- [Dask]: usar código Dask na resposta\n",
    "- [Spark]: usar código Spark na resposta. Pode usar Map-Reduce ou Spark SQL\n",
    "- [SparkStreaming]: usar código de Spark Streaming na resposta. Favor não alterar o código que gera o inputStream para manter o mesmo padrão na resposta\n",
    "\n",
    "Mesmo que não consiga terminar alguma questão, favor enviar, porque parte do código pode valer alguma pontuação.\n",
    "## ----------------------"
   ]
  },
  {
   "cell_type": "code",
   "execution_count": 1,
   "metadata": {},
   "outputs": [
    {
     "data": {
      "text/html": [
       "<table style=\"border: 2px solid white;\">\n",
       "<tr>\n",
       "<td style=\"vertical-align: top; border: 0px solid white\">\n",
       "<h3 style=\"text-align: left;\">Client</h3>\n",
       "<ul style=\"text-align: left; list-style: none; margin: 0; padding: 0;\">\n",
       "  <li><b>Scheduler: </b>tcp://127.0.0.1:39305</li>\n",
       "  <li><b>Dashboard: </b><a href='http://127.0.0.1:8787/status' target='_blank'>http://127.0.0.1:8787/status</a>\n",
       "</ul>\n",
       "</td>\n",
       "<td style=\"vertical-align: top; border: 0px solid white\">\n",
       "<h3 style=\"text-align: left;\">Cluster</h3>\n",
       "<ul style=\"text-align: left; list-style:none; margin: 0; padding: 0;\">\n",
       "  <li><b>Workers: </b>4</li>\n",
       "  <li><b>Cores: </b>4</li>\n",
       "  <li><b>Memory: </b>8.23 GB</li>\n",
       "</ul>\n",
       "</td>\n",
       "</tr>\n",
       "</table>"
      ],
      "text/plain": [
       "<Client: 'tcp://127.0.0.1:39305' processes=4 threads=4, memory=8.23 GB>"
      ]
     },
     "execution_count": 1,
     "metadata": {},
     "output_type": "execute_result"
    }
   ],
   "source": [
    "import dask.dataframe as dd\n",
    "from dask.distributed import Client, LocalCluster\n",
    "\n",
    "cluster = LocalCluster()\n",
    "client = Client(cluster)\n",
    "client"
   ]
  },
  {
   "cell_type": "code",
   "execution_count": 2,
   "metadata": {},
   "outputs": [
    {
     "data": {
      "text/html": [
       "<div><strong>Dask DataFrame Structure:</strong></div>\n",
       "<div>\n",
       "<style scoped>\n",
       "    .dataframe tbody tr th:only-of-type {\n",
       "        vertical-align: middle;\n",
       "    }\n",
       "\n",
       "    .dataframe tbody tr th {\n",
       "        vertical-align: top;\n",
       "    }\n",
       "\n",
       "    .dataframe thead th {\n",
       "        text-align: right;\n",
       "    }\n",
       "</style>\n",
       "<table border=\"1\" class=\"dataframe\">\n",
       "  <thead>\n",
       "    <tr style=\"text-align: right;\">\n",
       "      <th></th>\n",
       "      <th>timestamp</th>\n",
       "      <th>user_id</th>\n",
       "      <th>action</th>\n",
       "      <th>adId</th>\n",
       "      <th>campaignId</th>\n",
       "    </tr>\n",
       "    <tr>\n",
       "      <th>npartitions=1</th>\n",
       "      <th></th>\n",
       "      <th></th>\n",
       "      <th></th>\n",
       "      <th></th>\n",
       "      <th></th>\n",
       "    </tr>\n",
       "  </thead>\n",
       "  <tbody>\n",
       "    <tr>\n",
       "      <th></th>\n",
       "      <td>datetime64[ns]</td>\n",
       "      <td>object</td>\n",
       "      <td>object</td>\n",
       "      <td>object</td>\n",
       "      <td>object</td>\n",
       "    </tr>\n",
       "    <tr>\n",
       "      <th></th>\n",
       "      <td>...</td>\n",
       "      <td>...</td>\n",
       "      <td>...</td>\n",
       "      <td>...</td>\n",
       "      <td>...</td>\n",
       "    </tr>\n",
       "  </tbody>\n",
       "</table>\n",
       "</div>\n",
       "<div>Dask Name: rename, 4 tasks</div>"
      ],
      "text/plain": [
       "Dask DataFrame Structure:\n",
       "                    timestamp user_id  action    adId campaignId\n",
       "npartitions=1                                                   \n",
       "               datetime64[ns]  object  object  object     object\n",
       "                          ...     ...     ...     ...        ...\n",
       "Dask Name: rename, 4 tasks"
      ]
     },
     "execution_count": 2,
     "metadata": {},
     "output_type": "execute_result"
    }
   ],
   "source": [
    "data_dask = dd.read_csv('ad_action.csv', header=None, parse_dates=[0])\n",
    "data_dask.columns = ['timestamp','user_id','action','adId','campaignId']\n",
    "data_dask"
   ]
  },
  {
   "cell_type": "code",
   "execution_count": 3,
   "metadata": {},
   "outputs": [
    {
     "data": {
      "text/html": [
       "<div>\n",
       "<style scoped>\n",
       "    .dataframe tbody tr th:only-of-type {\n",
       "        vertical-align: middle;\n",
       "    }\n",
       "\n",
       "    .dataframe tbody tr th {\n",
       "        vertical-align: top;\n",
       "    }\n",
       "\n",
       "    .dataframe thead th {\n",
       "        text-align: right;\n",
       "    }\n",
       "</style>\n",
       "<table border=\"1\" class=\"dataframe\">\n",
       "  <thead>\n",
       "    <tr style=\"text-align: right;\">\n",
       "      <th></th>\n",
       "      <th>timestamp</th>\n",
       "      <th>user_id</th>\n",
       "      <th>action</th>\n",
       "      <th>adId</th>\n",
       "      <th>campaignId</th>\n",
       "    </tr>\n",
       "  </thead>\n",
       "  <tbody>\n",
       "    <tr>\n",
       "      <th>0</th>\n",
       "      <td>2016-09-21 22:11:00</td>\n",
       "      <td>7c74953c-66cc-48bd-9d02-a02bf039cf3f</td>\n",
       "      <td>click</td>\n",
       "      <td>adId_09</td>\n",
       "      <td>campaignId_01</td>\n",
       "    </tr>\n",
       "    <tr>\n",
       "      <th>1</th>\n",
       "      <td>2016-06-25 18:29:00</td>\n",
       "      <td>676a083e-2f8e-4ff2-9ec2-270f7f9d6033</td>\n",
       "      <td>view</td>\n",
       "      <td>adId_09</td>\n",
       "      <td>campaignId_02</td>\n",
       "    </tr>\n",
       "    <tr>\n",
       "      <th>2</th>\n",
       "      <td>2016-02-14 19:03:00</td>\n",
       "      <td>77158997-0dfa-48b7-9149-973dc151ef8d</td>\n",
       "      <td>click</td>\n",
       "      <td>adId_02</td>\n",
       "      <td>campaignId_02</td>\n",
       "    </tr>\n",
       "    <tr>\n",
       "      <th>3</th>\n",
       "      <td>2016-03-26 06:27:00</td>\n",
       "      <td>78aa2467-b502-413b-94e9-04ec8210bd13</td>\n",
       "      <td>click</td>\n",
       "      <td>adId_07</td>\n",
       "      <td>campaignId_03</td>\n",
       "    </tr>\n",
       "    <tr>\n",
       "      <th>4</th>\n",
       "      <td>2016-01-02 04:57:00</td>\n",
       "      <td>fef9a98c-d73e-48ef-b2cb-766ba85dc3e3</td>\n",
       "      <td>view</td>\n",
       "      <td>adId_02</td>\n",
       "      <td>campaignId_02</td>\n",
       "    </tr>\n",
       "  </tbody>\n",
       "</table>\n",
       "</div>"
      ],
      "text/plain": [
       "            timestamp                               user_id action     adId  \\\n",
       "0 2016-09-21 22:11:00  7c74953c-66cc-48bd-9d02-a02bf039cf3f  click  adId_09   \n",
       "1 2016-06-25 18:29:00  676a083e-2f8e-4ff2-9ec2-270f7f9d6033   view  adId_09   \n",
       "2 2016-02-14 19:03:00  77158997-0dfa-48b7-9149-973dc151ef8d  click  adId_02   \n",
       "3 2016-03-26 06:27:00  78aa2467-b502-413b-94e9-04ec8210bd13  click  adId_07   \n",
       "4 2016-01-02 04:57:00  fef9a98c-d73e-48ef-b2cb-766ba85dc3e3   view  adId_02   \n",
       "\n",
       "      campaignId  \n",
       "0  campaignId_01  \n",
       "1  campaignId_02  \n",
       "2  campaignId_02  \n",
       "3  campaignId_03  \n",
       "4  campaignId_02  "
      ]
     },
     "execution_count": 3,
     "metadata": {},
     "output_type": "execute_result"
    }
   ],
   "source": [
    "data_dask.head(5)"
   ]
  },
  {
   "cell_type": "markdown",
   "metadata": {},
   "source": [
    "## 1) [Dask] Quais são as top 3 campanhas que geraram mais eventos? Ordene pela quantidade de eventos (2 pontos)"
   ]
  },
  {
   "cell_type": "code",
   "execution_count": 4,
   "metadata": {},
   "outputs": [
    {
     "name": "stdout",
     "output_type": "stream",
     "text": [
      "campaignId\n",
      "campaignId_02    91216\n",
      "campaignId_03    87036\n",
      "campaignId_01    76461\n",
      "Name: timestamp, dtype: int64\n"
     ]
    }
   ],
   "source": [
    "# ESCREVA SEU CÓDIGO AQUI\n",
    "\n",
    "most_popular_campaign = data_dask[['campaignId', 'timestamp']].groupby('campaignId')\\\n",
    "    ['timestamp']\\\n",
    "    .count()\\\n",
    "    .nlargest(3)\\\n",
    "    .compute()\n",
    "\n",
    "print(most_popular_campaign)"
   ]
  },
  {
   "cell_type": "markdown",
   "metadata": {},
   "source": [
    "## 2) [Dask] Qual campanha teve mais clicks? (2 pontos)"
   ]
  },
  {
   "cell_type": "code",
   "execution_count": 5,
   "metadata": {},
   "outputs": [
    {
     "name": "stdout",
     "output_type": "stream",
     "text": [
      "A campanha: campaignId_02 obteve maior número de clicks\n"
     ]
    }
   ],
   "source": [
    "# ESCREVA SEU CÓDIGO AQUI\n",
    "\n",
    "clicks_campaign = data_dask[['campaignId', 'action']]\\\n",
    "    .where(data_dask['action'] == 'click')\\\n",
    "    .loc[(data_dask['action'] != 'NaN') & (data_dask['campaignId'] != 'NaN')]\n",
    "   \n",
    "\n",
    "most_clicks_campaign = clicks_campaign[['campaignId', 'action']].groupby('campaignId')\\\n",
    "    ['action']\\\n",
    "    .count()\\\n",
    "    .nlargest(1)\\\n",
    "    .compute()\n",
    "    \n",
    "    \n",
    "    \n",
    "print('A campanha: '+most_clicks_campaign.index[0]+' obteve maior número de clicks')\n"
   ]
  },
  {
   "cell_type": "markdown",
   "metadata": {},
   "source": [
    "## ----------------------"
   ]
  },
  {
   "cell_type": "code",
   "execution_count": 6,
   "metadata": {},
   "outputs": [],
   "source": [
    "# Para que o Jupyter consiga carregar o Spark corretamente no notebook\n",
    "import findspark\n",
    "from distutils.sysconfig import get_python_lib\n",
    "findspark.init(f\"{get_python_lib()}/pyspark\")\n",
    "\n",
    "from pyspark import SparkConf, SparkContext\n",
    "from pyspark.sql import SparkSession"
   ]
  },
  {
   "cell_type": "code",
   "execution_count": 7,
   "metadata": {},
   "outputs": [
    {
     "data": {
      "text/plain": [
       "['2016-09-21 22:11:00,7c74953c-66cc-48bd-9d02-a02bf039cf3f,click,adId_09,campaignId_01',\n",
       " '2016-06-25 18:29:00,676a083e-2f8e-4ff2-9ec2-270f7f9d6033,view,adId_09,campaignId_02',\n",
       " '2016-02-14 19:03:00,77158997-0dfa-48b7-9149-973dc151ef8d,click,adId_02,campaignId_02',\n",
       " '2016-03-26 06:27:00,78aa2467-b502-413b-94e9-04ec8210bd13,click,adId_07,campaignId_03',\n",
       " '2016-01-02 04:57:00,fef9a98c-d73e-48ef-b2cb-766ba85dc3e3,view,adId_02,campaignId_02']"
      ]
     },
     "execution_count": 7,
     "metadata": {},
     "output_type": "execute_result"
    }
   ],
   "source": [
    "# Para quem usar Spark com Map-Reduce\n",
    "conf = SparkConf().setMaster(\"local[*]\")\n",
    "sc = SparkContext(conf=conf)\n",
    "data_sc = sc.textFile('ad_action.csv')\n",
    "data_sc.take(5)"
   ]
  },
  {
   "cell_type": "code",
   "execution_count": null,
   "metadata": {},
   "outputs": [],
   "source": [
    "# Para quem usar Spark SQL\n",
    "from pyspark.sql.functions import to_timestamp\n",
    "spark = SparkSession.builder\\\n",
    "    .master(\"local[*]\")\\\n",
    "    .getOrCreate()\n",
    "data_spark = spark.read.csv('ad_action.csv', header=False, inferSchema=True)\n",
    "data_spark = data_spark.withColumnRenamed('_c0', 'timestamp')\n",
    "data_spark = data_spark.withColumnRenamed('_c1', 'user_id')\n",
    "data_spark = data_spark.withColumnRenamed('_c2', 'action')\n",
    "data_spark = data_spark.withColumnRenamed('_c3', 'adId')\n",
    "data_spark = data_spark.withColumnRenamed('_c4', 'campaignId')\n",
    "data_spark = data_spark.withColumn('timestamp', to_timestamp('timestamp'))\n",
    "data_spark.printSchema()"
   ]
  },
  {
   "cell_type": "code",
   "execution_count": null,
   "metadata": {},
   "outputs": [],
   "source": [
    "data_spark.show(5)"
   ]
  },
  {
   "cell_type": "markdown",
   "metadata": {},
   "source": [
    "## 3) [Spark] Dos 12 meses do ano, qual teve o maior total de eventos acumulado ao longo dos anos? (2 pontos)"
   ]
  },
  {
   "cell_type": "code",
   "execution_count": 8,
   "metadata": {},
   "outputs": [
    {
     "name": "stdout",
     "output_type": "stream",
     "text": [
      "2016/01 teve 25800 com maior número de eventos\n"
     ]
    }
   ],
   "source": [
    "#Professor, essa questão tive dúvidas com relação se era o mês do ano que tem maior eventos ou se era a campanha que teria mais eventos.\n",
    "# Com isso fiz as duas opções. \n",
    "\n",
    "\n",
    "# --------------  Agrupando pelo mês. Identificando o mês com maior número de eventos ----------------------\n",
    "def parse_action(line):\n",
    "    fields = line.split(\",\")\n",
    "    val = fields[0].split() \n",
    "    val = val[0].split(\"-\")\n",
    "    teste = val[0]+\"/\"+val[1] \n",
    "    tupla = (teste, 1)\n",
    "    return tupla\n",
    "\n",
    "dataCont = data_sc.map(parse_action)\\\n",
    "            .reduceByKey(lambda x, y: x + y)\n",
    "\n",
    "\n",
    "campaign_count= dataCont.map(lambda x: (x[1], x[0])).sortByKey(ascending=False)\n",
    "\n",
    "campaign_final = campaign_count.take(1)\n",
    "\n",
    "for campaign, number_of_campaign in sorted(campaign_final):\n",
    "    print(f\"{number_of_campaign} teve {campaign}\"+\" com maior número de eventos\")"
   ]
  },
  {
   "cell_type": "code",
   "execution_count": null,
   "metadata": {},
   "outputs": [],
   "source": [
    "# --------------  Agrupando pela campanha ----------------\n",
    "\n",
    "def parse_action(line):\n",
    "    fields = line.split(\",\")\n",
    "    return (fields[4], 1)\n",
    "\n",
    "campaign = data_sc.map(parse_action)\\\n",
    "        .reduceByKey(lambda x, y: x + y)\n",
    "\n",
    "campaign_count= campaign.map(lambda x: (x[1], x[0])).sortByKey(ascending=False)\n",
    "\n",
    "campaign_final = campaign_count.take(1)\n",
    "\n",
    "for campaign, number_of_campaign in sorted(campaign_final):\n",
    "    print(f\"{number_of_campaign} teve {campaign}\"+\" com maior número de eventos\")"
   ]
  },
  {
   "cell_type": "markdown",
   "metadata": {},
   "source": [
    "## 4) [Spark] Qual campanha teve mais views? (2 pontos)"
   ]
  },
  {
   "cell_type": "code",
   "execution_count": 9,
   "metadata": {},
   "outputs": [
    {
     "name": "stdout",
     "output_type": "stream",
     "text": [
      "campaignId_02 teve 27233 com maior número de views\n"
     ]
    }
   ],
   "source": [
    "def parse_action(line):\n",
    "    fields = line.split(\",\")\n",
    "    return (fields[2],(fields[4], 1))\n",
    "\n",
    "def take_top_click(rdd):\n",
    "    top_players = rdd.top(1, lambda x: x[1])\n",
    "    print(top_players)\n",
    "\n",
    "campaign = data_sc.map(parse_action)\\\n",
    "        .filter(lambda x: 'view' == x[0])\\\n",
    "        .map(lambda x: x[1])\\\n",
    "        .reduceByKey(lambda x, y: x + y)\n",
    "        \n",
    "\n",
    "campaign_count= campaign.map(lambda x: (x[1], x[0])).sortByKey(ascending=False)\n",
    "\n",
    "campaign_final = campaign_count.take(1)\n",
    "\n",
    "for campaign, number_of_campaign in sorted(campaign_final):\n",
    "    print(f\"{number_of_campaign} teve {campaign}\"+\" com maior número de views\")"
   ]
  },
  {
   "cell_type": "markdown",
   "metadata": {},
   "source": [
    "## ----------------------"
   ]
  },
  {
   "cell_type": "code",
   "execution_count": 10,
   "metadata": {},
   "outputs": [],
   "source": [
    "#Repetindo os imports\n",
    "\n",
    "import numpy\n",
    "import os\n",
    "import operator\n",
    "import re\n",
    "\n",
    "# Para que o Jupyter consiga carregar o Spark corretamente no notebook\n",
    "import findspark\n",
    "from distutils.sysconfig import get_python_lib\n",
    "findspark.init(f\"{get_python_lib()}/pyspark\")\n",
    "\n",
    "from pyspark import SparkConf, SparkContext\n",
    "from pyspark.streaming import StreamingContext"
   ]
  },
  {
   "cell_type": "code",
   "execution_count": null,
   "metadata": {},
   "outputs": [],
   "source": [
    "# Criando um cluster local com 1 executor e a quantidade de threads igual a quantidade de cores de CPU disponíveis\n",
    "\n",
    "conf = SparkConf().setMaster(\"local[*]\")\n",
    "sc = SparkContext(conf=conf)\n",
    "sc"
   ]
  },
  {
   "cell_type": "markdown",
   "metadata": {},
   "source": [
    "#### Configurando Streaming para dividir os dados em 25471 mini-batches e enviar 1 por segundo"
   ]
  },
  {
   "cell_type": "code",
   "execution_count": 11,
   "metadata": {},
   "outputs": [
    {
     "name": "stdout",
     "output_type": "stream",
     "text": [
      "Total de registros: 254713\n",
      "Total de mini-batches: 25471\n",
      "Total de registros no primeiro mini-batch: 11\n",
      "[array(['2016-09-21 22:11:00,7c74953c-66cc-48bd-9d02-a02bf039cf3f,click,adId_09,campaignId_01',\n",
      "       '2016-06-25 18:29:00,676a083e-2f8e-4ff2-9ec2-270f7f9d6033,view,adId_09,campaignId_02',\n",
      "       '2016-02-14 19:03:00,77158997-0dfa-48b7-9149-973dc151ef8d,click,adId_02,campaignId_02',\n",
      "       '2016-03-26 06:27:00,78aa2467-b502-413b-94e9-04ec8210bd13,click,adId_07,campaignId_03',\n",
      "       '2016-01-02 04:57:00,fef9a98c-d73e-48ef-b2cb-766ba85dc3e3,view,adId_02,campaignId_02',\n",
      "       '2016-03-04 09:14:00,6ba65af9-4d83-4567-b580-a34f177bb788,view,adId_09,campaignId_01',\n",
      "       '2016-07-09 21:42:00,be3befb9-ee08-4311-89f4-430d23ee63f1,click,adId_09,campaignId_01',\n",
      "       '2016-07-18 21:15:00,d37832ae-546f-4b9b-94f1-ab2ddfc0f49d,click,adId_05,campaignId_02',\n",
      "       '2016-04-20 13:30:00,1e5b575e-19e7-44fa-b5c2-f9aa6953de8a,click,adId_03,campaignId_01',\n",
      "       '2016-02-23 19:55:00,ed1b4467-8581-459e-94cb-8b5ed3835779,view,adId_06,campaignId_01',\n",
      "       '2016-10-12 09:51:00,7ebccca0-6039-47b0-b338-9b67e7b0bcd3,click,adId_08,campaignId_02'],\n",
      "      dtype='<U84'), array(['2016-01-30 12:01:00,413f4bb6-1eed-47e4-9e04-eb9114ae188c,view,adId_09,campaignId_02',\n",
      "       '2016-04-30 11:13:00,36b8fffb-66a8-4269-b28b-e61bf0c0e4ca,click,adId_02,campaignId_02',\n",
      "       '2016-11-03 09:22:00,f193d313-e475-4613-ac5e-c8a035e3c356,click,adId_05,campaignId_02',\n",
      "       '2016-02-03 14:09:00,1cb95f66-e5db-4976-9822-1ba64fa6bd8e,click,adId_02,campaignId_03',\n",
      "       '2016-02-25 10:49:00,4a1d1ad6-e404-4f4c-a8d0-90fb440ab371,click,adId_06,campaignId_03',\n",
      "       '2016-01-11 04:43:00,c748defa-2451-4999-9c98-a59ef0876e1f,view,adId_04,campaignId_03',\n",
      "       '2016-11-12 11:35:00,eec3f831-fe26-4500-90d1-97649e307491,click,adId_06,campaignId_02',\n",
      "       '2016-09-26 07:57:00,802efe54-909d-470b-bb9a-d2a79c555d79,click,adId_09,campaignId_03',\n",
      "       '2016-11-02 08:37:00,99b11329-4d2e-4ce2-833f-981ae914ca3f,view,adId_06,campaignId_01',\n",
      "       '2016-01-21 10:14:00,f6548a2c-a710-4f55-b6ae-2eda922699b4,click,adId_05,campaignId_01',\n",
      "       '2016-09-21 18:38:00,c1e522f9-f887-4f83-8c5f-8a81a94ad660,click,adId_05,campaignId_02'],\n",
      "      dtype='<U84'), array(['2016-12-19 00:24:00,af216304-766d-4a2c-ba3b-1a8a12260eb2,click,adId_08,campaignId_01',\n",
      "       '2016-11-20 11:35:00,dbbd3319-b860-4f6c-9e90-1c9fc955244b,click,adId_06,campaignId_02',\n",
      "       '2016-05-05 21:02:00,23b7c758-b73f-426b-bfdc-0854a3574712,view,adId_03,campaignId_03',\n",
      "       '2016-08-09 09:06:00,7e900efc-b56c-4c19-96fd-e66d07f8ee15,click,adId_04,campaignId_03',\n",
      "       '2016-06-26 07:51:00,8eb82956-3f24-4fc3-9f1f-6006878f572f,view,adId_06,campaignId_01',\n",
      "       '2016-08-17 08:18:00,fd137586-d23a-413c-bb2d-a7bf37a49f63,click,adId_10,campaignId_01',\n",
      "       '2016-04-06 19:00:00,d1d511ab-f566-4f07-83c3-ee950bfa113f,click,adId_07,campaignId_01',\n",
      "       '2016-10-16 15:02:00,4192ba4e-111c-485e-b70f-b38749d53b37,view,adId_02,campaignId_01',\n",
      "       '2016-04-28 18:39:00,3e7a3819-6524-4481-aca1-764f213be0a6,view,adId_06,campaignId_03',\n",
      "       '2016-09-20 16:33:00,92707aaa-cf35-43d5-a424-e365f4ee4cc3,click,adId_02,campaignId_01',\n",
      "       '2016-04-04 18:44:00,5c78b3ea-c80a-4e75-8f5c-c17d228345c1,click,adId_03,campaignId_01'],\n",
      "      dtype='<U84')]\n"
     ]
    }
   ],
   "source": [
    "ad_action_rdd = sc.textFile(\"ad_action.csv\")\n",
    "ad_action = ad_action_rdd.collect()\n",
    "print(f\"Total de registros: {len(ad_action)}\")\n",
    "ad_action_stream = numpy.array_split(ad_action, 25471)\n",
    "rddQueue = [sc.parallelize(mini_batch) for mini_batch in ad_action_stream]\n",
    "print(f\"Total de mini-batches: {len(rddQueue)}\")\n",
    "print(f\"Total de registros no primeiro mini-batch: {len(ad_action_stream[0])}\")\n",
    "print(ad_action_stream[:3])"
   ]
  },
  {
   "cell_type": "markdown",
   "metadata": {},
   "source": [
    "## 5) [SparkStreaming] Quais são as top 3 campanhas que geraram mais eventos nos últimos 10 segundos? Ordene pela quantidade de eventos e calcule a cada 3 segundos. (2 pontos)"
   ]
  },
  {
   "cell_type": "code",
   "execution_count": 12,
   "metadata": {},
   "outputs": [
    {
     "name": "stdout",
     "output_type": "stream",
     "text": [
      "[('campaignId_01', 14), ('campaignId_02', 11), ('campaignId_03', 8)]\n",
      "[('campaignId_01', 24), ('campaignId_03', 21), ('campaignId_02', 18)]\n",
      "[('campaignId_01', 33), ('campaignId_02', 33), ('campaignId_03', 27)]\n",
      "[('campaignId_02', 36), ('campaignId_01', 34), ('campaignId_03', 31)]\n",
      "[('campaignId_02', 43), ('campaignId_03', 29), ('campaignId_01', 28)]\n"
     ]
    }
   ],
   "source": [
    "ssc = StreamingContext(sc, 1)\n",
    "inputStream = ssc.queueStream(rddQueue)\n",
    "\n",
    "# ESCREVA SEU CÓDIGO AQUI\n",
    "\n",
    "def parse_action(line):\n",
    "    fields = line.split(\",\")\n",
    "    return (fields[4], 1)\n",
    "\n",
    "def take_top_click(rdd):\n",
    "    top_limit = 3\n",
    "    top_players = rdd.top(top_limit, lambda x: x[1])\n",
    "    #val = top_players.takeOrdered(5)\n",
    "    print(top_players)\n",
    "\n",
    "inputStream = inputStream.window(10,3)\\\n",
    "        .map(parse_action)\\\n",
    "        .reduceByKey(lambda x, y: x + y)\\\n",
    "        .foreachRDD(take_top_click)\n",
    "   \n",
    "      \n",
    "ssc.start()"
   ]
  },
  {
   "cell_type": "code",
   "execution_count": null,
   "metadata": {},
   "outputs": [
    {
     "name": "stdout",
     "output_type": "stream",
     "text": [
      "[('campaignId_02', 46), ('campaignId_01', 30), ('campaignId_03', 24)]\n"
     ]
    }
   ],
   "source": [
    "# Stop job\n",
    "ssc.stop(stopSparkContext=False, stopGraceFully=True)"
   ]
  },
  {
   "cell_type": "code",
   "execution_count": null,
   "metadata": {},
   "outputs": [],
   "source": []
  }
 ],
 "metadata": {
  "kernelspec": {
   "display_name": "Python 3",
   "language": "python",
   "name": "python3"
  },
  "language_info": {
   "codemirror_mode": {
    "name": "ipython",
    "version": 3
   },
   "file_extension": ".py",
   "mimetype": "text/x-python",
   "name": "python",
   "nbconvert_exporter": "python",
   "pygments_lexer": "ipython3",
   "version": "3.7.6"
  }
 },
 "nbformat": 4,
 "nbformat_minor": 4
}
